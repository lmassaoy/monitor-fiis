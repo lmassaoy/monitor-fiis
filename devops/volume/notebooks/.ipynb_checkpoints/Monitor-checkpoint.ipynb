{
 "cells": [
  {
   "cell_type": "code",
   "execution_count": 1,
   "metadata": {},
   "outputs": [],
   "source": [
    "from bs4 import BeautifulSoup\n",
    "import requests\n",
    "import json\n",
    "import pandas as pd"
   ]
  },
  {
   "cell_type": "code",
   "execution_count": 2,
   "metadata": {},
   "outputs": [],
   "source": [
    "my_fiis_json = \"../data/my_fiis.json\"\n",
    "\n",
    "\n",
    "with open(my_fiis_json) as f:\n",
    "  my_fiis_dict = json.load(f)"
   ]
  },
  {
   "cell_type": "code",
   "execution_count": 3,
   "metadata": {},
   "outputs": [],
   "source": [
    "def get_fiis_url(full=True,my_fiis=[]):\n",
    "    r = requests.get('https://fiis.com.br/lista-de-fundos-imobiliarios/')\n",
    "    soup = BeautifulSoup(r.text, 'html.parser')\n",
    "    fii_url_list = []\n",
    "    fii_html_list = soup.find(id='items-wrapper').find_all('a')\n",
    "    \n",
    "    if full:\n",
    "        for fii_url in fii_html_list:\n",
    "            fii_url_list.append(fii_url.get('href'))\n",
    " \n",
    "        return fii_url_list\n",
    "    else:\n",
    "        for fii in fii_html_list:\n",
    "            fii_name = fii.contents[1].contents[0]\n",
    "            if fii_name in my_fiis:\n",
    "                fii_url_list.append(fii.get('href'))\n",
    "        \n",
    "        return fii_url_list"
   ]
  },
  {
   "cell_type": "code",
   "execution_count": 4,
   "metadata": {},
   "outputs": [],
   "source": [
    "def get_fii_news(url):\n",
    "    r = requests.get(url)\n",
    "    soup = BeautifulSoup(r.text, 'html.parser')\n",
    "    \n",
    "    fii_news = {}\n",
    "    fii_news['news'] = []\n",
    "    \n",
    "    news_block = soup.find(id='news--wrapper').find_all('li')\n",
    "    for news in news_block:\n",
    "        news_dict = {}\n",
    "        \n",
    "        news_date = news.find(class_='date').contents[0]\n",
    "        if len(news.find(class_='title')) == 1:\n",
    "            news_title = news.find(class_='title').contents[0]\n",
    "        else:\n",
    "            news_title = ''\n",
    "            for piece in news.find(class_='title'):\n",
    "                if str(piece) != '<br/>':\n",
    "                    news_title = news_title+f'{piece} '\n",
    "                    \n",
    "            news_title = news_title.rstrip()\n",
    "            \n",
    "        if news.find('a').get('href') != 'javascript:;':\n",
    "            news_link_url = news.find('a').get('href')\n",
    "        else:\n",
    "            news_link_url = 'no_link'\n",
    "        \n",
    "        news_dict['date'] = news_date\n",
    "        news_dict['title'] = news_title\n",
    "        news_dict['link'] = news_link_url\n",
    "        fii_news['news'].append(news_dict)\n",
    "    \n",
    "    \n",
    "    return fii_news"
   ]
  },
  {
   "cell_type": "code",
   "execution_count": 5,
   "metadata": {},
   "outputs": [],
   "source": [
    "def get_fii_info(url,news=False):\n",
    "    r = requests.get(url)\n",
    "    soup = BeautifulSoup(r.text, 'html.parser')\n",
    "    \n",
    "    fii_info = {}\n",
    "    \n",
    "    fii_kpis = soup.find(id='informations--indexes').find_all(class_='item')\n",
    "    fii_admin_top = soup.find(id='informations--admin').find(class_='top-content')\n",
    "    fii_admin_bottom = soup.find(id='informations--admin').find(class_='bottom-content').find_all(class_='item')   \n",
    "    fii_basic = soup.find(id='informations--basic').find_all(class_='wrapper')\n",
    "    fii_basic_1_items = fii_basic[0].find_all(class_='item')\n",
    "    fii_basic_2_items = fii_basic[1].find_all(class_='item')\n",
    "    \n",
    "   \n",
    "    fii_info[\"fiiCode\"] = soup.find(id='fund-ticker').contents[0]\n",
    "    fii_info[\"fiiFullName\"] = soup.find(id='fund-name').contents[0].rstrip().lstrip()\n",
    "    fii_info[\"currentValue\"] = float(soup.find(class_='item quotation').find(class_='value').contents[0].replace(',','.'))\n",
    "    \n",
    "    fii_info[\"admin\"] = {}\n",
    "    fii_info[\"admin\"][\"name\"] = fii_admin_top.find(class_='administrator-name').contents[0]\n",
    "    fii_info[\"admin\"][\"cnpj\"] = fii_admin_top.find(class_='administrator-doc').contents[0]\n",
    "    fii_info[\"admin\"][\"phone\"] = fii_admin_bottom[0].find(class_='value').contents[0]\n",
    "    fii_info[\"admin\"][\"email\"] = fii_admin_bottom[1].find(class_='value').find('a').contents[0].contents[0]\n",
    "    fii_info[\"admin\"][\"site\"] = fii_admin_bottom[2].find(class_='value').find('a').contents[0]\n",
    "    \n",
    "    \n",
    "    fii_info[\"fiiBasicInfo\"] = {}\n",
    "    fii_info[\"fiiBasicInfo\"][\"stockName\"] = fii_basic_1_items[0].find(class_='value').contents[0]\n",
    "    fii_info[\"fiiBasicInfo\"][\"fiiType\"] = fii_basic_1_items[1].find(class_='value').contents[0]\n",
    "    fii_info[\"fiiBasicInfo\"][\"typeANBIMA\"] = fii_basic_1_items[2].find(class_='value').contents[0]\n",
    "    fii_info[\"fiiBasicInfo\"][\"CVM\"] = fii_basic_1_items[3].find(class_='value').contents[0]\n",
    "    fii_info[\"fiiBasicInfo\"][\"numberOfQuotas\"] = int(fii_basic_2_items[0].find(class_='value').contents[0].replace('.',''))\n",
    "    fii_info[\"fiiBasicInfo\"][\"numberOfQuotaHolders\"] = int(fii_basic_2_items[1].find(class_='value').contents[0].replace('.',''))\n",
    "    fii_info[\"fiiBasicInfo\"][\"fiiCNPJ\"] = fii_basic_2_items[2].find(class_='value').contents[0]\n",
    "    \n",
    "    \n",
    "    fii_info[\"DY\"] = float(fii_kpis[0].find(class_='value').contents[0].replace(',','.'))\n",
    "    \n",
    "    fii_info[\"lastPayment\"] = {}\n",
    "    fii_info[\"lastPayment\"][\"currency\"] = fii_kpis[1].find(class_='value').find(class_='currency').contents[0]\n",
    "    fii_info[\"lastPayment\"][\"value\"] = float(fii_kpis[1].find(class_='value').contents[1].replace(',','.'))\n",
    "    \n",
    "    fii_info[\"netPatrimony\"] = {}\n",
    "    fii_info[\"netPatrimony\"][\"currency\"] = fii_kpis[2].find(class_='value').find(class_='currency').contents[0]\n",
    "    fii_info[\"netPatrimony\"][\"value\"] = fii_kpis[2].find(class_='value').contents[1]\n",
    "   \n",
    "    fii_info[\"valuePerQuota\"] = {}\n",
    "    fii_info[\"valuePerQuota\"][\"currency\"] = fii_kpis[3].find(class_='value').find(class_='currency').contents[0]\n",
    "    fii_info[\"valuePerQuota\"][\"value\"] = float(fii_kpis[3].find(class_='value').contents[1].replace(',','.'))\n",
    "        \n",
    "    if news:\n",
    "        fii_info['news'] = get_fii_news(url)\n",
    "\n",
    "    return fii_info"
   ]
  },
  {
   "cell_type": "code",
   "execution_count": 7,
   "metadata": {},
   "outputs": [
    {
     "name": "stdout",
     "output_type": "stream",
     "text": [
      "{'fiiCode': 'KNIP11', 'fiiFullName': 'Kinea Índice de Preços', 'currentValue': 111.3, 'admin': {'name': 'INTRAG DTVM', 'cnpj': '62.418.140/0001-31', 'phone': ' 55 (11) 30726012', 'email': '[email\\xa0protected]', 'site': 'www.intrag.com.br'}, 'fiiBasicInfo': {'stockName': 'FII KINEA IP', 'fiiType': 'Papel: CRIs', 'typeANBIMA': 'Títulos e Valores Mobiliários Gestão Ativa', 'CVM': '30/11/-0001', 'numberOfQuotas': 32994469, 'numberOfQuotaHolders': 21660, 'fiiCNPJ': '24.960.430/0001-13'}, 'DY': 0.63, 'lastPayment': {'currency': 'R$', 'value': 0.7}, 'netPatrimony': {'currency': 'R$', 'value': '3,60 B'}, 'valuePerQuota': {'currency': 'R$', 'value': 109.08}}\n"
     ]
    }
   ],
   "source": [
    "fii_url = get_fiis_url(False,my_fiis_dict[\"fiis\"][0])[0]\n",
    "\n",
    "# print(get_fii_info(fii_url))\n",
    "# print(get_fii_news(fii_url))"
   ]
  },
  {
   "cell_type": "code",
   "execution_count": null,
   "metadata": {},
   "outputs": [],
   "source": []
  },
  {
   "cell_type": "code",
   "execution_count": null,
   "metadata": {},
   "outputs": [],
   "source": []
  }
 ],
 "metadata": {
  "kernelspec": {
   "display_name": "Python 3",
   "language": "python",
   "name": "python3"
  },
  "language_info": {
   "codemirror_mode": {
    "name": "ipython",
    "version": 3
   },
   "file_extension": ".py",
   "mimetype": "text/x-python",
   "name": "python",
   "nbconvert_exporter": "python",
   "pygments_lexer": "ipython3",
   "version": "3.8.5"
  }
 },
 "nbformat": 4,
 "nbformat_minor": 4
}
